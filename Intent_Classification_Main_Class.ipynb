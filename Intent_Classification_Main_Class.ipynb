{
  "cells": [
    {
      "attachments": {},
      "cell_type": "markdown",
      "metadata": {
        "id": "Lr-TN-Vc_yjf"
      },
      "source": [
        "<font color=\"#e32b3d\"><h1>Intent Classification</h2></font>\n",
        "\n",
        "<font color=\"#822b34\"><h2>*TREC Dataset*</h2></font>\n",
        "<font color=\"#2ff9b3d\"><h1>Part 1: First Model - Main class classification</h1></font>\n",
        "\n",
        "required library and packages are imported."
      ]
    },
    {
      "cell_type": "code",
      "execution_count": 65,
      "metadata": {
        "id": "m0bEi16B_dWB"
      },
      "outputs": [],
      "source": [
        "# Import library\n",
        "import torch\n",
        "\n",
        "import torch.nn.functional as F\n",
        "from torch.utils.data import DataLoader, Dataset\n",
        "\n",
        "import torchvision\n",
        "from torchvision import transforms\n",
        "from torchvision.datasets import ImageFolder\n",
        "import torch.nn as nn\n",
        "\n",
        "import matplotlib.pyplot as plt\n",
        "import seaborn as sns\n",
        "import numpy as np\n",
        "import pandas as pd\n",
        "from scipy import spatial\n",
        "from tqdm import tqdm\n",
        "from PIL import Image\n",
        "import cv2\n",
        "import glob\n",
        "import os"
      ]
    },
    {
      "cell_type": "code",
      "execution_count": 66,
      "metadata": {
        "colab": {
          "base_uri": "https://localhost:8080/"
        },
        "id": "ZLQro1GpxC1Z",
        "outputId": "223ba050-bb32-4226-d875-d9fe4d44c98c"
      },
      "outputs": [
        {
          "name": "stdout",
          "output_type": "stream",
          "text": [
            "Drive already mounted at /content/drive; to attempt to forcibly remount, call drive.mount(\"/content/drive\", force_remount=True).\n"
          ]
        }
      ],
      "source": [
        "from google.colab import drive\n",
        "drive.mount('/content/drive')"
      ]
    },
    {
      "cell_type": "code",
      "execution_count": 67,
      "metadata": {
        "id": "vi33NjoXxRrE"
      },
      "outputs": [],
      "source": [
        "DIR_TRAIN = \"/content/drive/MyDrive/TREC Dataset/train.csv\"\n",
        "DIR_TEST = \"/content/drive/MyDrive/TREC Dataset/test.csv\""
      ]
    },
    {
      "cell_type": "code",
      "execution_count": 68,
      "metadata": {
        "colab": {
          "base_uri": "https://localhost:8080/"
        },
        "id": "j952sF4yxbUU",
        "outputId": "0eaa7c08-3aa6-44cc-f27c-8c3e961957fc"
      },
      "outputs": [
        {
          "name": "stdout",
          "output_type": "stream",
          "text": [
            "Train data set : 5452\n",
            "Test data set : 500\n"
          ]
        }
      ],
      "source": [
        "train_df = pd.read_csv(DIR_TRAIN)\n",
        "test_df = pd.read_csv(DIR_TEST)\n",
        "print('Train data set : '+str(train_df.shape[0]))\n",
        "print('Test data set : '+str(test_df.shape[0]))"
      ]
    },
    {
      "cell_type": "code",
      "execution_count": 69,
      "metadata": {
        "colab": {
          "base_uri": "https://localhost:8080/"
        },
        "id": "TnSxL2HZHveB",
        "outputId": "a15f9431-b412-4187-b8d4-26c95c4e15d9"
      },
      "outputs": [
        {
          "name": "stdout",
          "output_type": "stream",
          "text": [
            "Coarse labels : 6\n"
          ]
        }
      ],
      "source": [
        "coarse_classes = len(set(train_df[\"label-coarse\"]))\n",
        "\n",
        "coarse_labels=[]\n",
        "for i in range(coarse_classes):\n",
        "  coarse_labels.append(i) \n",
        "\n",
        "class_names = ['abbreviaion', 'entity', 'description', 'human', 'location', 'numeric']\n",
        "print('Coarse labels : '+str(coarse_classes))"
      ]
    },
    {
      "cell_type": "code",
      "execution_count": 70,
      "metadata": {
        "colab": {
          "base_uri": "https://localhost:8080/"
        },
        "id": "9xeYBZADwWJe",
        "outputId": "c315a336-e975-4058-c6b1-36dd1ffdf731"
      },
      "outputs": [
        {
          "data": {
            "text/plain": [
              "<torchtext.vocab.vectors.GloVe at 0x7ff752473e50>"
            ]
          },
          "execution_count": 70,
          "metadata": {},
          "output_type": "execute_result"
        }
      ],
      "source": [
        "from torchtext.vocab import GloVe\n",
        "global_vectors = GloVe(name='6B', dim=300)\n",
        "global_vectors"
      ]
    },
    {
      "cell_type": "code",
      "execution_count": 71,
      "metadata": {
        "id": "JJZjvChrICpt"
      },
      "outputs": [],
      "source": [
        "## tensor with size (1,300) with all zero elements for padding\n",
        "colm_zero = torch.tensor([0 for i in range(300)]).to('cuda')"
      ]
    },
    {
      "attachments": {},
      "cell_type": "markdown",
      "metadata": {
        "id": "BSZ2NESS3IFZ"
      },
      "source": [
        "*tokenized* function to tokenize each sequence"
      ]
    },
    {
      "cell_type": "code",
      "execution_count": 72,
      "metadata": {
        "id": "OGU4dIxtHsqB"
      },
      "outputs": [],
      "source": [
        "from torchtext.data.utils import get_tokenizer\n",
        "class tokenized ():\n",
        "  def __init__(self, data):\n",
        "    self.text = data[2]\n",
        "    self.C_label = data[0]\n",
        "    self.F_label = data[1]\n",
        "\n",
        "  def Q_normalize (self):\n",
        "    tokenizer = get_tokenizer(\"basic_english\")\n",
        "    lower = self.text.lower()\n",
        "    ripped = lower.translate(str.maketrans('', '', '!\"#$%&\\'()*+,-./:;<=>@[\\\\]^_`{|}~'))\n",
        "    token = tokenizer(ripped)\n",
        "    return token, self.C_label, self.F_label\n",
        "  "
      ]
    },
    {
      "attachments": {},
      "cell_type": "markdown",
      "metadata": {
        "id": "qqH9oWeC3QYS"
      },
      "source": [
        "*vectorized* function to convert each word in a sequence to its corresponding tensor from *glove* dictionary"
      ]
    },
    {
      "cell_type": "code",
      "execution_count": 73,
      "metadata": {
        "id": "I3tQECJvhAas"
      },
      "outputs": [],
      "source": [
        "class vectorized ():\n",
        "  def __init__(self, tokenized_Q):\n",
        "    self.length = len(tokenized_Q)\n",
        "    self.tokenized_Q = tokenized_Q\n",
        "    self.l = []\n",
        "    self.t = torch.empty((self.length,300), dtype=torch.float32)\n",
        "  \n",
        "  def data(self):\n",
        "    for i in range(self.length):\n",
        "      try: \n",
        "        idx = global_vectors.itos.index(self.tokenized_Q[i])\n",
        "        self.l.append(global_vectors.vectors[idx].to('cuda'))\n",
        "        self.t[i] = global_vectors.vectors[idx].to('cuda')\n",
        "      except:\n",
        "        ## if the word is not in the dictionary use paddings instead\n",
        "        self.t[i] =colm_zero\n",
        "        # print(\"the requested word is not in the dictionary\")\n",
        "        continue\n",
        "    return self.t\n"
      ]
    },
    {
      "attachments": {},
      "cell_type": "markdown",
      "metadata": {
        "id": "ma0tmIuE3nz_"
      },
      "source": [
        "Defining our own data structure, each train data will have the following structure:\n",
        "\n",
        "        * 'coarse_label' : (1,6) tensor indicating the coarse label in a one hot manner\n",
        "        * 'fine_label' : (1,47) tensor indicating the fine label in a one hot manner\n",
        "        * 'data' : (seq_len, 300) tensor of converted sequence"
      ]
    },
    {
      "cell_type": "code",
      "execution_count": 74,
      "metadata": {
        "id": "e129MSpr_ElY"
      },
      "outputs": [],
      "source": [
        "## creating train the dataset \n",
        "train_dataset = []\n",
        "for i in range(train_df.shape[0]):\n",
        "  ## empty tensor for one hot label\n",
        "  target = torch.empty((coarse_classes), dtype=torch.float32).to('cuda')\n",
        "  tewt, CL, FL = tokenized(train_df.values[i]).Q_normalize()\n",
        "  data = vectorized(tewt).data().to('cuda')\n",
        "  for i in range(coarse_classes):\n",
        "    if (i == CL):\n",
        "      target[i] = torch.tensor([1]).to('cuda')\n",
        "    else: \n",
        "      target[i] = torch.tensor([0]).to('cuda')\n",
        "  m = {'target': target,\n",
        "      'data':data}\n",
        "  train_dataset.append(m)\n"
      ]
    },
    {
      "cell_type": "code",
      "execution_count": 75,
      "metadata": {
        "id": "99EjBNdGmXB5"
      },
      "outputs": [],
      "source": [
        "## creating validation the dataset \n",
        "test_dataset = []\n",
        "for i in range(test_df.shape[0]):\n",
        "  target = torch.empty((coarse_classes), dtype=torch.float32).to('cuda')\n",
        "  tewt, CL, FL = tokenized(train_df.values[i]).Q_normalize()\n",
        "  data = vectorized(tewt).data().to('cuda')\n",
        "  for i in range(coarse_classes):\n",
        "    if (i == CL):\n",
        "      target[i] = torch.tensor([1]).to('cuda')\n",
        "    else: \n",
        "      target[i] = torch.tensor([0]).to('cuda')\n",
        "  m = {'target': target,\n",
        "      'data':data}\n",
        "  test_dataset.append(m)"
      ]
    },
    {
      "attachments": {},
      "cell_type": "markdown",
      "metadata": {
        "id": "QB-6gxga4bs2"
      },
      "source": [
        "Samples of dataset:"
      ]
    },
    {
      "cell_type": "code",
      "execution_count": 76,
      "metadata": {
        "colab": {
          "base_uri": "https://localhost:8080/"
        },
        "id": "Ga9dx1c_czKG",
        "outputId": "407f5c96-9527-45fa-fae0-2329d6a4a53d"
      },
      "outputs": [
        {
          "data": {
            "text/plain": [
              "{'target': tensor([0., 0., 1., 0., 0., 0.], device='cuda:0'),\n",
              " 'data': tensor([[-0.2002,  0.1430,  0.0521,  ...,  0.0349, -0.1260,  0.2186],\n",
              "         [-0.1749,  0.2296,  0.2492,  ..., -0.2413, -0.4040,  0.0547],\n",
              "         [ 0.0466,  0.2132, -0.0074,  ...,  0.0091, -0.2099,  0.0539],\n",
              "         ...,\n",
              "         [-0.0769, -0.0212,  0.2127,  ...,  0.1835, -0.2918, -0.0465],\n",
              "         [ 0.0391,  0.3460,  0.1155,  ..., -0.2009,  0.3085, -0.2755],\n",
              "         [-0.0833, -0.2090, -0.0436,  ..., -0.1775,  0.0558,  0.8013]],\n",
              "        device='cuda:0')}"
            ]
          },
          "execution_count": 76,
          "metadata": {},
          "output_type": "execute_result"
        }
      ],
      "source": [
        "train_dataset[4]"
      ]
    },
    {
      "attachments": {},
      "cell_type": "markdown",
      "metadata": {
        "id": "EJ_9-0CcAI0N"
      },
      "source": [
        "Finding the maximum sequence length:"
      ]
    },
    {
      "cell_type": "code",
      "execution_count": 77,
      "metadata": {
        "colab": {
          "base_uri": "https://localhost:8080/"
        },
        "id": "p3i1NL4nVkYT",
        "outputId": "8c49294e-25b8-42ba-c8c5-3f9d04774f1e"
      },
      "outputs": [
        {
          "data": {
            "text/plain": [
              "34"
            ]
          },
          "execution_count": 77,
          "metadata": {},
          "output_type": "execute_result"
        }
      ],
      "source": [
        "# maximum sentence length in train dataset\n",
        "length =[]\n",
        "for i in range(train_df.shape[0]):\n",
        "  length.append(train_dataset[i][\"data\"].shape[0])\n",
        "max_len = max(length)\n",
        "max_len"
      ]
    },
    {
      "attachments": {},
      "cell_type": "markdown",
      "metadata": {
        "id": "sl_OzUm7AM6d"
      },
      "source": [
        "padding each sequence so that all the suqences have the matching length of *max_len*\n"
      ]
    },
    {
      "cell_type": "code",
      "execution_count": 78,
      "metadata": {
        "id": "olscnEFSfCZ6"
      },
      "outputs": [],
      "source": [
        "# padding with zero tensors\n",
        "for i in range(train_df.shape[0]):\n",
        "  if(train_dataset[i]['data'].shape[0]<=max_len):\n",
        "    temp = torch.empty((max_len-train_dataset[i]['data'].shape[0],300), dtype=torch.int64).to('cuda')\n",
        "    for k in range(max_len-train_dataset[i]['data'].shape[0]):\n",
        "      temp[k] = colm_zero\n",
        "    train_dataset[i]['data'] = torch.cat((temp, train_dataset[i]['data']), 0)\n",
        "\n",
        "\n",
        "for i in range(test_df.shape[0]):\n",
        "  if(test_dataset[i]['data'].shape[0]<=max_len):\n",
        "    temp = torch.empty((max_len-test_dataset[i]['data'].shape[0],300), dtype=torch.int64).to('cuda')\n",
        "    for k in range(max_len-test_dataset[i]['data'].shape[0]):\n",
        "      temp[k] = colm_zero\n",
        "    test_dataset[i]['data'] = torch.cat((temp, test_dataset[i]['data']), 0)"
      ]
    },
    {
      "attachments": {},
      "cell_type": "markdown",
      "metadata": {
        "id": "UN3ymPVEAn1m"
      },
      "source": [
        "checking the length of sequencs in both datasets:"
      ]
    },
    {
      "cell_type": "code",
      "execution_count": 79,
      "metadata": {
        "colab": {
          "base_uri": "https://localhost:8080/"
        },
        "id": "oEMW2CzMJYEy",
        "outputId": "392baf5f-11fb-4b2a-9b69-afc717f02873"
      },
      "outputs": [
        {
          "name": "stdout",
          "output_type": "stream",
          "text": [
            "torch.Size([34, 300])\n",
            "torch.Size([34, 300])\n"
          ]
        }
      ],
      "source": [
        "## sample of train padded data\n",
        "print(train_dataset[2661]['data'].shape)\n",
        "## sample of validation padded data\n",
        "print(test_dataset[2]['data'].shape)"
      ]
    },
    {
      "attachments": {},
      "cell_type": "markdown",
      "metadata": {
        "id": "w8D0d9CoAukO"
      },
      "source": [
        "Creating dataloaders:"
      ]
    },
    {
      "cell_type": "code",
      "execution_count": 80,
      "metadata": {
        "id": "yBAqP6gN-nQC"
      },
      "outputs": [],
      "source": [
        "## creating dataloaders\n",
        "batch_size = 4\n",
        "train_dataloader = DataLoader(\n",
        "    dataset = train_dataset,\n",
        "    batch_size =batch_size,\n",
        "    shuffle = True\n",
        ")\n",
        "\n",
        "test_dataloader = DataLoader(\n",
        "    dataset = test_dataset,\n",
        "    batch_size =batch_size,\n",
        "    shuffle = True\n",
        ")"
      ]
    },
    {
      "cell_type": "code",
      "execution_count": 81,
      "metadata": {
        "id": "S8egDP8QsN88"
      },
      "outputs": [],
      "source": [
        "class LSTM(nn.Module):\n",
        "\n",
        "    def __init__(self, dimension):\n",
        "        super(LSTM, self).__init__()\n",
        "        self.dimension = dimension\n",
        "        self.lstm = nn.LSTM(input_size=300,\n",
        "                            hidden_size=dimension,\n",
        "                            num_layers=1,\n",
        "                            batch_first=True)\n",
        "        self.dropout1 = nn.Dropout(p=0.3)\n",
        "        self.sigmoid = nn.Sigmoid()\n",
        "        self.coarse_linear = nn.Linear(dimension, coarse_classes)\n",
        "        self.softmax = nn.Softmax(dim=1)\n",
        "\n",
        "    def forward(self, text):\n",
        "        out, (hidden_state,cell_state) = self.lstm(text)\n",
        "\n",
        "        coarse = self.sigmoid(out[:, -1, :])\n",
        "        coarse = self.coarse_linear(coarse)\n",
        "        coarse_soft = self.softmax(coarse)\n",
        "        \n",
        "        return coarse_soft\n"
      ]
    },
    {
      "attachments": {},
      "cell_type": "markdown",
      "metadata": {
        "id": "Q-CCVjqlBL9Z"
      },
      "source": [
        "Definfing the accuracy function:"
      ]
    },
    {
      "cell_type": "code",
      "execution_count": 82,
      "metadata": {
        "id": "bbfJIh2uKOXE"
      },
      "outputs": [],
      "source": [
        "def accuracy_fn(true, pred):\n",
        "  acc = 0.0000\n",
        "  for i in range(true.shape[0]):\n",
        "    if (true[i].detach().cpu().numpy().argmax() == pred[i].detach().cpu().numpy().argmax()):\n",
        "      acc+=1\n",
        "    else:\n",
        "      acc+=0\n",
        "  return acc/true.shape[0]"
      ]
    },
    {
      "attachments": {},
      "cell_type": "markdown",
      "metadata": {
        "id": "aMU02cu6BTGz"
      },
      "source": [
        "Fit function will be called at each epoch:"
      ]
    },
    {
      "cell_type": "code",
      "execution_count": 83,
      "metadata": {
        "id": "DgWZXuUAcgEQ"
      },
      "outputs": [],
      "source": [
        "def fit(model, train_dataloader, optimizer, criterion):\n",
        "    model.train()   # Training mode (allow weight updates)\n",
        "    train_running_loss = 0.0\n",
        "    train_running_acc = 0.0\n",
        "    counter = 0\n",
        "    train_loss = 0.0\n",
        "    train_acc = 0.0\n",
        "\n",
        "    with tqdm(train_dataloader, desc =\"  train\") as train_tqdm:\n",
        "      for item in train_tqdm:\n",
        "        counter += 1\n",
        "        data = item['data'].to('cuda')\n",
        "        target = item['target'].to('cuda')\n",
        "\n",
        "        optimizer.zero_grad()   # Reset gradients\n",
        "        outputs = model(data.to('cuda'))   # Calculate outputs using the model\n",
        "\n",
        "        loss = criterion(outputs, target)     ## Calculate Loss\n",
        "\n",
        "        acc = accuracy_fn(target, outputs)\n",
        "        train_running_acc += acc\n",
        "\n",
        "        train_running_loss += loss.item()\n",
        "        loss.backward()   ## Backpropage the loss and calculate the gradients\n",
        "        optimizer.step()  ## Update the weights using backpropagation\n",
        "        train_tqdm.set_postfix(train_acc=\"{:.3f}\".format(train_running_acc/counter),\n",
        "                               train_loss=train_running_loss/counter, refresh=False)\n",
        "          \n",
        "    train_loss = train_running_loss / counter ## Total epoch loss\n",
        "    train_acc = train_running_acc / counter ## Total epoch acc\n",
        "    return train_loss, train_acc"
      ]
    },
    {
      "cell_type": "code",
      "execution_count": 84,
      "metadata": {
        "id": "ye8AsdfRHVR6"
      },
      "outputs": [],
      "source": [
        "def validation(model, data_loader, criterion):\n",
        "    model.eval()    ## Evaluation mode (do not allow weight updates)\n",
        "    val_running_loss = 0.0\n",
        "    val_running_acc = 0.0\n",
        "    counter = 0\n",
        "    val_loss = 0.0\n",
        "    val_acc = 0.0\n",
        "\n",
        "    with tqdm(data_loader, desc =\"  test\") as test_tqdm:\n",
        "      for item in test_tqdm:\n",
        "        counter += 1\n",
        "        data = item['data'].to('cuda')\n",
        "        target = item['target'].to('cuda')\n",
        "\n",
        "        outputs = model(data.to('cuda'))   # Calculate outputs using the model\n",
        "\n",
        "        loss = criterion(outputs, target)     ## Calculate Loss\n",
        "\n",
        "        acc = accuracy_fn(target, outputs)\n",
        "        val_running_acc += acc\n",
        "        val_running_loss += loss.item()\n",
        "        test_tqdm.set_postfix(train_acc=\"{:.3f}\".format(val_running_acc/counter),\n",
        "                              val_loss=val_running_loss/counter, refresh=False)\n",
        "\n",
        "        \n",
        "    val_loss = val_running_loss / counter ## Total epoch loss\n",
        "    val_acc = val_running_acc / counter ## Total epoch acc\n",
        "    return val_loss, val_acc"
      ]
    },
    {
      "attachments": {},
      "cell_type": "markdown",
      "metadata": {
        "id": "dyO48Hv1wax6"
      },
      "source": [
        "<font color=\"#AF3B54\"><h2>*Training with 25 hidden layes*</h2></font>\n"
      ]
    },
    {
      "attachments": {},
      "cell_type": "markdown",
      "metadata": {
        "id": "ihgoHir9CczE"
      },
      "source": [
        "Training with 25 hidden layers for 100 epochs:"
      ]
    },
    {
      "cell_type": "code",
      "execution_count": 94,
      "metadata": {
        "colab": {
          "base_uri": "https://localhost:8080/"
        },
        "id": "1ARoHFSsRHM5",
        "outputId": "9e329b28-b232-470f-a5d4-7cc51d9a20cb"
      },
      "outputs": [
        {
          "name": "stdout",
          "output_type": "stream",
          "text": [
            "EPOCH 1/50 :\n"
          ]
        },
        {
          "name": "stderr",
          "output_type": "stream",
          "text": [
            "  train: 100%|██████████| 1363/1363 [00:04<00:00, 299.00it/s, train_acc=0.245, train_loss=1.77]\n",
            "  test: 100%|██████████| 125/125 [00:00<00:00, 660.43it/s, train_acc=0.274, val_loss=1.76]\n"
          ]
        },
        {
          "name": "stdout",
          "output_type": "stream",
          "text": [
            "EPOCH 2/50 :\n"
          ]
        },
        {
          "name": "stderr",
          "output_type": "stream",
          "text": [
            "  train: 100%|██████████| 1363/1363 [00:04<00:00, 320.95it/s, train_acc=0.340, train_loss=1.74]\n",
            "  test: 100%|██████████| 125/125 [00:00<00:00, 783.23it/s, train_acc=0.464, val_loss=1.73]\n"
          ]
        },
        {
          "name": "stdout",
          "output_type": "stream",
          "text": [
            "EPOCH 3/50 :\n"
          ]
        },
        {
          "name": "stderr",
          "output_type": "stream",
          "text": [
            "  train: 100%|██████████| 1363/1363 [00:03<00:00, 350.59it/s, train_acc=0.429, train_loss=1.71]\n",
            "  test: 100%|██████████| 125/125 [00:00<00:00, 840.20it/s, train_acc=0.462, val_loss=1.69]\n"
          ]
        },
        {
          "name": "stdout",
          "output_type": "stream",
          "text": [
            "EPOCH 4/50 :\n"
          ]
        },
        {
          "name": "stderr",
          "output_type": "stream",
          "text": [
            "  train: 100%|██████████| 1363/1363 [00:04<00:00, 321.27it/s, train_acc=0.429, train_loss=1.68]\n",
            "  test: 100%|██████████| 125/125 [00:00<00:00, 661.05it/s, train_acc=0.448, val_loss=1.66]\n"
          ]
        },
        {
          "name": "stdout",
          "output_type": "stream",
          "text": [
            "EPOCH 5/50 :\n"
          ]
        },
        {
          "name": "stderr",
          "output_type": "stream",
          "text": [
            "  train: 100%|██████████| 1363/1363 [00:04<00:00, 303.11it/s, train_acc=0.451, train_loss=1.66]\n",
            "  test: 100%|██████████| 125/125 [00:00<00:00, 867.32it/s, train_acc=0.480, val_loss=1.63]\n"
          ]
        },
        {
          "name": "stdout",
          "output_type": "stream",
          "text": [
            "EPOCH 6/50 :\n"
          ]
        },
        {
          "name": "stderr",
          "output_type": "stream",
          "text": [
            "  train: 100%|██████████| 1363/1363 [00:03<00:00, 351.42it/s, train_acc=0.483, train_loss=1.63]\n",
            "  test: 100%|██████████| 125/125 [00:00<00:00, 849.15it/s, train_acc=0.532, val_loss=1.61]\n"
          ]
        },
        {
          "name": "stdout",
          "output_type": "stream",
          "text": [
            "EPOCH 7/50 :\n"
          ]
        },
        {
          "name": "stderr",
          "output_type": "stream",
          "text": [
            "  train: 100%|██████████| 1363/1363 [00:03<00:00, 349.27it/s, train_acc=0.516, train_loss=1.61]\n",
            "  test: 100%|██████████| 125/125 [00:00<00:00, 601.84it/s, train_acc=0.552, val_loss=1.59]\n"
          ]
        },
        {
          "name": "stdout",
          "output_type": "stream",
          "text": [
            "EPOCH 8/50 :\n"
          ]
        },
        {
          "name": "stderr",
          "output_type": "stream",
          "text": [
            "  train: 100%|██████████| 1363/1363 [00:04<00:00, 284.92it/s, train_acc=0.540, train_loss=1.59]\n",
            "  test: 100%|██████████| 125/125 [00:00<00:00, 837.52it/s, train_acc=0.570, val_loss=1.57]\n"
          ]
        },
        {
          "name": "stdout",
          "output_type": "stream",
          "text": [
            "EPOCH 9/50 :\n"
          ]
        },
        {
          "name": "stderr",
          "output_type": "stream",
          "text": [
            "  train: 100%|██████████| 1363/1363 [00:03<00:00, 347.45it/s, train_acc=0.554, train_loss=1.57]\n",
            "  test: 100%|██████████| 125/125 [00:00<00:00, 867.07it/s, train_acc=0.578, val_loss=1.55]\n"
          ]
        },
        {
          "name": "stdout",
          "output_type": "stream",
          "text": [
            "EPOCH 10/50 :\n"
          ]
        },
        {
          "name": "stderr",
          "output_type": "stream",
          "text": [
            "  train: 100%|██████████| 1363/1363 [00:03<00:00, 354.17it/s, train_acc=0.567, train_loss=1.56]\n",
            "  test: 100%|██████████| 125/125 [00:00<00:00, 841.24it/s, train_acc=0.588, val_loss=1.53]\n"
          ]
        },
        {
          "name": "stdout",
          "output_type": "stream",
          "text": [
            "EPOCH 11/50 :\n"
          ]
        },
        {
          "name": "stderr",
          "output_type": "stream",
          "text": [
            "  train: 100%|██████████| 1363/1363 [00:04<00:00, 280.62it/s, train_acc=0.569, train_loss=1.54]\n",
            "  test: 100%|██████████| 125/125 [00:00<00:00, 844.79it/s, train_acc=0.582, val_loss=1.52]\n"
          ]
        },
        {
          "name": "stdout",
          "output_type": "stream",
          "text": [
            "EPOCH 12/50 :\n"
          ]
        },
        {
          "name": "stderr",
          "output_type": "stream",
          "text": [
            "  train: 100%|██████████| 1363/1363 [00:03<00:00, 352.84it/s, train_acc=0.574, train_loss=1.52]\n",
            "  test: 100%|██████████| 125/125 [00:00<00:00, 848.32it/s, train_acc=0.598, val_loss=1.5]\n"
          ]
        },
        {
          "name": "stdout",
          "output_type": "stream",
          "text": [
            "EPOCH 13/50 :\n"
          ]
        },
        {
          "name": "stderr",
          "output_type": "stream",
          "text": [
            "  train: 100%|██████████| 1363/1363 [00:03<00:00, 350.06it/s, train_acc=0.577, train_loss=1.5] \n",
            "  test: 100%|██████████| 125/125 [00:00<00:00, 813.67it/s, train_acc=0.590, val_loss=1.49]\n"
          ]
        },
        {
          "name": "stdout",
          "output_type": "stream",
          "text": [
            "EPOCH 14/50 :\n"
          ]
        },
        {
          "name": "stderr",
          "output_type": "stream",
          "text": [
            "  train: 100%|██████████| 1363/1363 [00:04<00:00, 288.43it/s, train_acc=0.590, train_loss=1.49]\n",
            "  test: 100%|██████████| 125/125 [00:00<00:00, 596.74it/s, train_acc=0.618, val_loss=1.46]\n"
          ]
        },
        {
          "name": "stdout",
          "output_type": "stream",
          "text": [
            "EPOCH 15/50 :\n"
          ]
        },
        {
          "name": "stderr",
          "output_type": "stream",
          "text": [
            "  train: 100%|██████████| 1363/1363 [00:03<00:00, 345.86it/s, train_acc=0.651, train_loss=1.47]\n",
            "  test: 100%|██████████| 125/125 [00:00<00:00, 849.15it/s, train_acc=0.680, val_loss=1.46]\n"
          ]
        },
        {
          "name": "stdout",
          "output_type": "stream",
          "text": [
            "EPOCH 16/50 :\n"
          ]
        },
        {
          "name": "stderr",
          "output_type": "stream",
          "text": [
            "  train: 100%|██████████| 1363/1363 [00:03<00:00, 348.53it/s, train_acc=0.679, train_loss=1.45]\n",
            "  test: 100%|██████████| 125/125 [00:00<00:00, 850.36it/s, train_acc=0.706, val_loss=1.43]\n"
          ]
        },
        {
          "name": "stdout",
          "output_type": "stream",
          "text": [
            "EPOCH 17/50 :\n"
          ]
        },
        {
          "name": "stderr",
          "output_type": "stream",
          "text": [
            "  train: 100%|██████████| 1363/1363 [00:04<00:00, 302.92it/s, train_acc=0.697, train_loss=1.43]\n",
            "  test: 100%|██████████| 125/125 [00:00<00:00, 643.08it/s, train_acc=0.700, val_loss=1.41]\n"
          ]
        },
        {
          "name": "stdout",
          "output_type": "stream",
          "text": [
            "EPOCH 18/50 :\n"
          ]
        },
        {
          "name": "stderr",
          "output_type": "stream",
          "text": [
            "  train: 100%|██████████| 1363/1363 [00:04<00:00, 329.53it/s, train_acc=0.703, train_loss=1.41]\n",
            "  test: 100%|██████████| 125/125 [00:00<00:00, 851.40it/s, train_acc=0.718, val_loss=1.41]\n"
          ]
        },
        {
          "name": "stdout",
          "output_type": "stream",
          "text": [
            "EPOCH 19/50 :\n"
          ]
        },
        {
          "name": "stderr",
          "output_type": "stream",
          "text": [
            "  train: 100%|██████████| 1363/1363 [00:03<00:00, 348.97it/s, train_acc=0.711, train_loss=1.4]\n",
            "  test: 100%|██████████| 125/125 [00:00<00:00, 823.03it/s, train_acc=0.708, val_loss=1.39]\n"
          ]
        },
        {
          "name": "stdout",
          "output_type": "stream",
          "text": [
            "EPOCH 20/50 :\n"
          ]
        },
        {
          "name": "stderr",
          "output_type": "stream",
          "text": [
            "  train: 100%|██████████| 1363/1363 [00:04<00:00, 312.17it/s, train_acc=0.718, train_loss=1.38]\n",
            "  test: 100%|██████████| 125/125 [00:00<00:00, 574.73it/s, train_acc=0.730, val_loss=1.37]\n"
          ]
        },
        {
          "name": "stdout",
          "output_type": "stream",
          "text": [
            "EPOCH 21/50 :\n"
          ]
        },
        {
          "name": "stderr",
          "output_type": "stream",
          "text": [
            "  train: 100%|██████████| 1363/1363 [00:04<00:00, 302.16it/s, train_acc=0.737, train_loss=1.37]\n",
            "  test: 100%|██████████| 125/125 [00:00<00:00, 820.34it/s, train_acc=0.746, val_loss=1.36]\n"
          ]
        },
        {
          "name": "stdout",
          "output_type": "stream",
          "text": [
            "EPOCH 22/50 :\n"
          ]
        },
        {
          "name": "stderr",
          "output_type": "stream",
          "text": [
            "  train: 100%|██████████| 1363/1363 [00:03<00:00, 351.59it/s, train_acc=0.770, train_loss=1.35]\n",
            "  test: 100%|██████████| 125/125 [00:00<00:00, 839.13it/s, train_acc=0.790, val_loss=1.35]\n"
          ]
        },
        {
          "name": "stdout",
          "output_type": "stream",
          "text": [
            "EPOCH 23/50 :\n"
          ]
        },
        {
          "name": "stderr",
          "output_type": "stream",
          "text": [
            "  train: 100%|██████████| 1363/1363 [00:04<00:00, 278.88it/s, train_acc=0.817, train_loss=1.34]\n",
            "  test: 100%|██████████| 125/125 [00:00<00:00, 460.97it/s, train_acc=0.838, val_loss=1.33]\n"
          ]
        },
        {
          "name": "stdout",
          "output_type": "stream",
          "text": [
            "EPOCH 24/50 :\n"
          ]
        },
        {
          "name": "stderr",
          "output_type": "stream",
          "text": [
            "  train: 100%|██████████| 1363/1363 [00:04<00:00, 273.34it/s, train_acc=0.842, train_loss=1.33]\n",
            "  test: 100%|██████████| 125/125 [00:00<00:00, 844.63it/s, train_acc=0.842, val_loss=1.32]\n"
          ]
        },
        {
          "name": "stdout",
          "output_type": "stream",
          "text": [
            "EPOCH 25/50 :\n"
          ]
        },
        {
          "name": "stderr",
          "output_type": "stream",
          "text": [
            "  train: 100%|██████████| 1363/1363 [00:03<00:00, 350.76it/s, train_acc=0.855, train_loss=1.31]\n",
            "  test: 100%|██████████| 125/125 [00:00<00:00, 854.26it/s, train_acc=0.866, val_loss=1.31]\n"
          ]
        },
        {
          "name": "stdout",
          "output_type": "stream",
          "text": [
            "EPOCH 26/50 :\n"
          ]
        },
        {
          "name": "stderr",
          "output_type": "stream",
          "text": [
            "  train: 100%|██████████| 1363/1363 [00:03<00:00, 350.70it/s, train_acc=0.863, train_loss=1.3]\n",
            "  test: 100%|██████████| 125/125 [00:00<00:00, 864.66it/s, train_acc=0.872, val_loss=1.29]\n"
          ]
        },
        {
          "name": "stdout",
          "output_type": "stream",
          "text": [
            "EPOCH 27/50 :\n"
          ]
        },
        {
          "name": "stderr",
          "output_type": "stream",
          "text": [
            "  train: 100%|██████████| 1363/1363 [00:04<00:00, 282.12it/s, train_acc=0.869, train_loss=1.29]\n",
            "  test: 100%|██████████| 125/125 [00:00<00:00, 835.16it/s, train_acc=0.860, val_loss=1.3]\n"
          ]
        },
        {
          "name": "stdout",
          "output_type": "stream",
          "text": [
            "EPOCH 28/50 :\n"
          ]
        },
        {
          "name": "stderr",
          "output_type": "stream",
          "text": [
            "  train: 100%|██████████| 1363/1363 [00:03<00:00, 350.06it/s, train_acc=0.874, train_loss=1.27]\n",
            "  test: 100%|██████████| 125/125 [00:00<00:00, 809.34it/s, train_acc=0.880, val_loss=1.27]\n"
          ]
        },
        {
          "name": "stdout",
          "output_type": "stream",
          "text": [
            "EPOCH 29/50 :\n"
          ]
        },
        {
          "name": "stderr",
          "output_type": "stream",
          "text": [
            "  train: 100%|██████████| 1363/1363 [00:03<00:00, 348.13it/s, train_acc=0.875, train_loss=1.26]\n",
            "  test: 100%|██████████| 125/125 [00:00<00:00, 846.79it/s, train_acc=0.872, val_loss=1.27]\n"
          ]
        },
        {
          "name": "stdout",
          "output_type": "stream",
          "text": [
            "EPOCH 30/50 :\n"
          ]
        },
        {
          "name": "stderr",
          "output_type": "stream",
          "text": [
            "  train: 100%|██████████| 1363/1363 [00:04<00:00, 292.01it/s, train_acc=0.883, train_loss=1.25]\n",
            "  test: 100%|██████████| 125/125 [00:00<00:00, 579.85it/s, train_acc=0.888, val_loss=1.25]\n"
          ]
        },
        {
          "name": "stdout",
          "output_type": "stream",
          "text": [
            "EPOCH 31/50 :\n"
          ]
        },
        {
          "name": "stderr",
          "output_type": "stream",
          "text": [
            "  train: 100%|██████████| 1363/1363 [00:03<00:00, 342.13it/s, train_acc=0.883, train_loss=1.24]\n",
            "  test: 100%|██████████| 125/125 [00:00<00:00, 864.00it/s, train_acc=0.888, val_loss=1.24]\n"
          ]
        },
        {
          "name": "stdout",
          "output_type": "stream",
          "text": [
            "EPOCH 32/50 :\n"
          ]
        },
        {
          "name": "stderr",
          "output_type": "stream",
          "text": [
            "  train: 100%|██████████| 1363/1363 [00:03<00:00, 354.69it/s, train_acc=0.888, train_loss=1.23]\n",
            "  test: 100%|██████████| 125/125 [00:00<00:00, 854.42it/s, train_acc=0.890, val_loss=1.23]\n"
          ]
        },
        {
          "name": "stdout",
          "output_type": "stream",
          "text": [
            "EPOCH 33/50 :\n"
          ]
        },
        {
          "name": "stderr",
          "output_type": "stream",
          "text": [
            "  train: 100%|██████████| 1363/1363 [00:04<00:00, 304.98it/s, train_acc=0.890, train_loss=1.23]\n",
            "  test: 100%|██████████| 125/125 [00:00<00:00, 631.16it/s, train_acc=0.894, val_loss=1.22]\n"
          ]
        },
        {
          "name": "stdout",
          "output_type": "stream",
          "text": [
            "EPOCH 34/50 :\n"
          ]
        },
        {
          "name": "stderr",
          "output_type": "stream",
          "text": [
            "  train: 100%|██████████| 1363/1363 [00:04<00:00, 319.26it/s, train_acc=0.893, train_loss=1.22]\n",
            "  test: 100%|██████████| 125/125 [00:00<00:00, 861.98it/s, train_acc=0.900, val_loss=1.21]\n"
          ]
        },
        {
          "name": "stdout",
          "output_type": "stream",
          "text": [
            "EPOCH 35/50 :\n"
          ]
        },
        {
          "name": "stderr",
          "output_type": "stream",
          "text": [
            "  train: 100%|██████████| 1363/1363 [00:03<00:00, 353.04it/s, train_acc=0.893, train_loss=1.21]\n",
            "  test: 100%|██████████| 125/125 [00:00<00:00, 780.90it/s, train_acc=0.894, val_loss=1.21]\n"
          ]
        },
        {
          "name": "stdout",
          "output_type": "stream",
          "text": [
            "EPOCH 36/50 :\n"
          ]
        },
        {
          "name": "stderr",
          "output_type": "stream",
          "text": [
            "  train: 100%|██████████| 1363/1363 [00:04<00:00, 323.10it/s, train_acc=0.896, train_loss=1.2]\n",
            "  test: 100%|██████████| 125/125 [00:00<00:00, 660.02it/s, train_acc=0.902, val_loss=1.2]\n"
          ]
        },
        {
          "name": "stdout",
          "output_type": "stream",
          "text": [
            "EPOCH 37/50 :\n"
          ]
        },
        {
          "name": "stderr",
          "output_type": "stream",
          "text": [
            "  train: 100%|██████████| 1363/1363 [00:04<00:00, 302.33it/s, train_acc=0.899, train_loss=1.2]\n",
            "  test: 100%|██████████| 125/125 [00:00<00:00, 840.07it/s, train_acc=0.908, val_loss=1.19]\n"
          ]
        },
        {
          "name": "stdout",
          "output_type": "stream",
          "text": [
            "EPOCH 38/50 :\n"
          ]
        },
        {
          "name": "stderr",
          "output_type": "stream",
          "text": [
            "  train: 100%|██████████| 1363/1363 [00:03<00:00, 351.27it/s, train_acc=0.902, train_loss=1.19]\n",
            "  test: 100%|██████████| 125/125 [00:00<00:00, 846.61it/s, train_acc=0.910, val_loss=1.18]\n"
          ]
        },
        {
          "name": "stdout",
          "output_type": "stream",
          "text": [
            "EPOCH 39/50 :\n"
          ]
        },
        {
          "name": "stderr",
          "output_type": "stream",
          "text": [
            "  train: 100%|██████████| 1363/1363 [00:03<00:00, 343.35it/s, train_acc=0.904, train_loss=1.18]\n",
            "  test: 100%|██████████| 125/125 [00:00<00:00, 629.64it/s, train_acc=0.914, val_loss=1.18]\n"
          ]
        },
        {
          "name": "stdout",
          "output_type": "stream",
          "text": [
            "EPOCH 40/50 :\n"
          ]
        },
        {
          "name": "stderr",
          "output_type": "stream",
          "text": [
            "  train: 100%|██████████| 1363/1363 [00:04<00:00, 285.27it/s, train_acc=0.905, train_loss=1.18]\n",
            "  test: 100%|██████████| 125/125 [00:00<00:00, 801.72it/s, train_acc=0.900, val_loss=1.18]\n"
          ]
        },
        {
          "name": "stdout",
          "output_type": "stream",
          "text": [
            "EPOCH 41/50 :\n"
          ]
        },
        {
          "name": "stderr",
          "output_type": "stream",
          "text": [
            "  train: 100%|██████████| 1363/1363 [00:03<00:00, 351.30it/s, train_acc=0.908, train_loss=1.17]\n",
            "  test: 100%|██████████| 125/125 [00:00<00:00, 822.08it/s, train_acc=0.890, val_loss=1.18]\n"
          ]
        },
        {
          "name": "stdout",
          "output_type": "stream",
          "text": [
            "EPOCH 42/50 :\n"
          ]
        },
        {
          "name": "stderr",
          "output_type": "stream",
          "text": [
            "  train: 100%|██████████| 1363/1363 [00:03<00:00, 352.30it/s, train_acc=0.908, train_loss=1.17]\n",
            "  test: 100%|██████████| 125/125 [00:00<00:00, 846.92it/s, train_acc=0.916, val_loss=1.17]\n"
          ]
        },
        {
          "name": "stdout",
          "output_type": "stream",
          "text": [
            "EPOCH 43/50 :\n"
          ]
        },
        {
          "name": "stderr",
          "output_type": "stream",
          "text": [
            "  train: 100%|██████████| 1363/1363 [00:04<00:00, 279.49it/s, train_acc=0.909, train_loss=1.17]\n",
            "  test: 100%|██████████| 125/125 [00:00<00:00, 824.16it/s, train_acc=0.910, val_loss=1.17]\n"
          ]
        },
        {
          "name": "stdout",
          "output_type": "stream",
          "text": [
            "EPOCH 44/50 :\n"
          ]
        },
        {
          "name": "stderr",
          "output_type": "stream",
          "text": [
            "  train: 100%|██████████| 1363/1363 [00:03<00:00, 349.77it/s, train_acc=0.913, train_loss=1.16]\n",
            "  test: 100%|██████████| 125/125 [00:00<00:00, 785.42it/s, train_acc=0.914, val_loss=1.16]\n"
          ]
        },
        {
          "name": "stdout",
          "output_type": "stream",
          "text": [
            "EPOCH 45/50 :\n"
          ]
        },
        {
          "name": "stderr",
          "output_type": "stream",
          "text": [
            "  train: 100%|██████████| 1363/1363 [00:03<00:00, 352.31it/s, train_acc=0.909, train_loss=1.16]\n",
            "  test: 100%|██████████| 125/125 [00:00<00:00, 871.74it/s, train_acc=0.916, val_loss=1.16]\n"
          ]
        },
        {
          "name": "stdout",
          "output_type": "stream",
          "text": [
            "EPOCH 46/50 :\n"
          ]
        },
        {
          "name": "stderr",
          "output_type": "stream",
          "text": [
            "  train: 100%|██████████| 1363/1363 [00:04<00:00, 291.23it/s, train_acc=0.914, train_loss=1.16]\n",
            "  test: 100%|██████████| 125/125 [00:00<00:00, 582.61it/s, train_acc=0.890, val_loss=1.18]\n"
          ]
        },
        {
          "name": "stdout",
          "output_type": "stream",
          "text": [
            "EPOCH 47/50 :\n"
          ]
        },
        {
          "name": "stderr",
          "output_type": "stream",
          "text": [
            "  train: 100%|██████████| 1363/1363 [00:03<00:00, 350.90it/s, train_acc=0.911, train_loss=1.16]\n",
            "  test: 100%|██████████| 125/125 [00:00<00:00, 825.71it/s, train_acc=0.918, val_loss=1.15]\n"
          ]
        },
        {
          "name": "stdout",
          "output_type": "stream",
          "text": [
            "EPOCH 48/50 :\n"
          ]
        },
        {
          "name": "stderr",
          "output_type": "stream",
          "text": [
            "  train: 100%|██████████| 1363/1363 [00:03<00:00, 347.28it/s, train_acc=0.917, train_loss=1.15]\n",
            "  test: 100%|██████████| 125/125 [00:00<00:00, 847.10it/s, train_acc=0.918, val_loss=1.15]\n"
          ]
        },
        {
          "name": "stdout",
          "output_type": "stream",
          "text": [
            "EPOCH 49/50 :\n"
          ]
        },
        {
          "name": "stderr",
          "output_type": "stream",
          "text": [
            "  train: 100%|██████████| 1363/1363 [00:04<00:00, 306.25it/s, train_acc=0.917, train_loss=1.15]\n",
            "  test: 100%|██████████| 125/125 [00:00<00:00, 658.29it/s, train_acc=0.920, val_loss=1.15]\n"
          ]
        },
        {
          "name": "stdout",
          "output_type": "stream",
          "text": [
            "EPOCH 50/50 :\n"
          ]
        },
        {
          "name": "stderr",
          "output_type": "stream",
          "text": [
            "  train: 100%|██████████| 1363/1363 [00:04<00:00, 325.57it/s, train_acc=0.922, train_loss=1.14]\n",
            "  test: 100%|██████████| 125/125 [00:00<00:00, 801.52it/s, train_acc=0.918, val_loss=1.15]\n"
          ]
        }
      ],
      "source": [
        "import torch.optim as optim\n",
        "model25 = LSTM(dimension=25).to('cuda')\n",
        "\n",
        "## Optimizer and loss function\n",
        "optimizer = optim.Adam(model25.parameters(),lr=0.0001)\n",
        "criterion = nn.CrossEntropyLoss()\n",
        "\n",
        "train_loss = []\n",
        "train_acc = []\n",
        "val_loss = []\n",
        "val_acc = []\n",
        "epochs = 50\n",
        "\n",
        "for epoch in range(epochs):\n",
        "  print(\"EPOCH {}/{} :\".format(epoch +1, epochs))\n",
        "  ## fit\n",
        "  train_epoch_loss , train_acc_epoch= fit(model25, train_dataloader, optimizer, criterion)\n",
        "  train_loss.append(train_epoch_loss)\n",
        "  train_acc.append(train_acc_epoch)\n",
        "  ## Validation\n",
        "  val_epoch_loss , val_acc_epoch= validation(model25, test_dataloader, criterion)\n",
        "  val_loss.append(val_epoch_loss)\n",
        "  val_acc.append(val_acc_epoch)\n",
        "\n",
        "torch.save(model25.state_dict(), 'first_trained_model_25')"
      ]
    },
    {
      "attachments": {},
      "cell_type": "markdown",
      "metadata": {
        "id": "jmAlMeAHCq2N"
      },
      "source": [
        "*plot_acc_loss* function plots accuracy and loss values for train and validation per epoch"
      ]
    },
    {
      "cell_type": "code",
      "execution_count": 95,
      "metadata": {
        "id": "p_JCpNIBtuly"
      },
      "outputs": [],
      "source": [
        "import matplotlib.pyplot as plt\n",
        "def plot_acc_loss(train_acc, val_acc, train_loss, val_loss, hidden, name):\n",
        "  fig, axs = plt.subplots(2, figsize=(15,10))\n",
        "\n",
        "  ## Plotting the training loss and validation loss vs epochs for each model\n",
        "  axs[0].plot(list(range(1,len(train_acc)+1)), train_acc, label='Train Acc', linewidth=4)\n",
        "  axs[0].plot(list(range(1,len(val_acc)+1)), val_acc, label='Val Acc', linewidth=4)\n",
        "  axs[0].set_title(str(name)+' Accuracy per Epoch for First Model with hidden_layer = '+str(hidden))\n",
        "  axs[0].set_xlabel('Epoch')\n",
        "  axs[0].set_ylabel('Accuracy')\n",
        "  axs[0].grid()\n",
        "  axs[0].legend()\n",
        "  ## Plotting the training loss and validation loss vs epochs for each model\n",
        "  axs[1].plot(list(range(1,len(train_loss)+1)), train_loss, label='Train Loss', linewidth=4)\n",
        "  axs[1].plot(list(range(1,len(val_loss)+1)), val_loss, label='Val Loss', linewidth=4)\n",
        "  axs[1].set_title(str(name)+' Loss per Epoch for First Model with hidden_layer = '+str(hidden))\n",
        "  axs[1].set_xlabel('Epoch')\n",
        "  axs[1].set_ylabel('Loss')\n",
        "  axs[1].grid()\n",
        "  axs[1].legend()\n",
        "  plt.tight_layout()\n",
        "   "
      ]
    },
    {
      "cell_type": "code",
      "execution_count": 96,
      "metadata": {
        "colab": {
          "base_uri": "https://localhost:8080/",
          "height": 1000
        },
        "id": "uHNDs1Xiv3Qs",
        "outputId": "162b7f38-82f9-4cb2-bb6b-492eca05d588"
      },
      "outputs": [
        {
          "data": {
            "image/png": "[encoded data removed]",
            "text/plain": [
              "<Figure size 1500x1000 with 2 Axes>"
            ]
          },
          "metadata": {},
          "output_type": "display_data"
        }
      ],
      "source": [
        "# Main classification\n",
        "plot_acc_loss(train_acc, val_acc, train_loss, val_loss, 25, 'Main')"
      ]
    },
    {
      "attachments": {},
      "cell_type": "markdown",
      "metadata": {
        "id": "4R3HBtcOC-Q8"
      },
      "source": [
        "*conf_acc* function plots confusion matrix and reports classification metrics such as f1-score, percision, recall and accuracy"
      ]
    },
    {
      "cell_type": "code",
      "execution_count": 97,
      "metadata": {
        "id": "DlNuProJL7Ws"
      },
      "outputs": [],
      "source": [
        "from sklearn.metrics import confusion_matrix\n",
        "from sklearn.metrics import classification_report\n",
        "\n",
        "def conf_acc(y_true, y_pred, Attr, hidden):\n",
        "  cnf_matrix = confusion_matrix(y_true, y_pred)   ## Sklearn confusion matrix object\n",
        "  accuracy = np.trace(cnf_matrix) / float(np.sum(cnf_matrix))\n",
        "  misclass = 1 - accuracy\n",
        "\n",
        "  fig, ax = plt.subplots(figsize=(10, 10))\n",
        "  sns.heatmap(pd.DataFrame(cnf_matrix), annot=True, cmap = \"Blues\" ,fmt='g', xticklabels=class_names , yticklabels=class_names)\n",
        "  ax.xaxis.set_label_position(\"bottom\")\n",
        "  plt.title('Confusion matrix for ' + str(Attr)+' class of first model with hidden_layer = '+str(hidden), y=1.1)\n",
        "  plt.ylabel('True label')\n",
        "  plt.xlabel('Predicted label\\naccuracy={:0.2f}; misclass={:0.2f}'.format(accuracy, misclass))\n",
        "  plt.tight_layout()\n",
        "  print(classification_report(y_true, y_pred, digits=4))\n"
      ]
    },
    {
      "attachments": {},
      "cell_type": "markdown",
      "metadata": {
        "id": "jcfwhWj1DPvi"
      },
      "source": [
        "*Testing* function feeds the trained network with test_dataloader and using *conf_acc* reports the results"
      ]
    },
    {
      "cell_type": "code",
      "execution_count": 98,
      "metadata": {
        "id": "u93rZk2gH4IK"
      },
      "outputs": [],
      "source": [
        "from sklearn.metrics import confusion_matrix\n",
        "from sklearn.metrics import classification_report\n",
        "\n",
        "def Testing(model, data_loader, hidden):\n",
        "\n",
        "  counter = 0\n",
        "  y_true = []\n",
        "  y_pred = []\n",
        "  # Send model to GPU\n",
        "  device = torch.device(\"cuda:0\" if torch.cuda.is_available() else \"cpu\")\n",
        "  model.load_state_dict(torch.load('first_trained_model_'+str(hidden)))\n",
        "  model.to(device)\n",
        "  model.eval() \n",
        "\n",
        "  with tqdm(data_loader, desc =\"   test\") as test_tqdm:\n",
        "    for item in test_tqdm:\n",
        "      counter += 1\n",
        "      data = item['data'].to('cuda')\n",
        "      target = item['target'].to('cuda')\n",
        "\n",
        "      outputs = model(data.to('cuda'))   # Calculate outputs using the model\n",
        "\n",
        "      y_true.append((target[0].detach().cpu().numpy()).argmax()) \n",
        "      y_pred.append((outputs[0].detach().cpu().numpy()).argmax())\n",
        "\n",
        "  ## plot coonfusion matrix\n",
        "  conf_acc(y_true, y_pred, 'Main', hidden)\n",
        "\n",
        "  return\n"
      ]
    },
    {
      "cell_type": "code",
      "execution_count": 99,
      "metadata": {
        "colab": {
          "base_uri": "https://localhost:8080/",
          "height": 1000
        },
        "id": "3bmoLUPJkMw5",
        "outputId": "1a5782f3-2b5b-465b-ba0f-04a6a0091d83"
      },
      "outputs": [
        {
          "name": "stderr",
          "output_type": "stream",
          "text": [
            "   test: 100%|██████████| 125/125 [00:00<00:00, 1218.26it/s]\n",
            "/usr/local/lib/python3.10/dist-packages/sklearn/metrics/_classification.py:1344: UndefinedMetricWarning: Precision and F-score are ill-defined and being set to 0.0 in labels with no predicted samples. Use `zero_division` parameter to control this behavior.\n",
            "  _warn_prf(average, modifier, msg_start, len(result))\n",
            "/usr/local/lib/python3.10/dist-packages/sklearn/metrics/_classification.py:1344: UndefinedMetricWarning: Precision and F-score are ill-defined and being set to 0.0 in labels with no predicted samples. Use `zero_division` parameter to control this behavior.\n",
            "  _warn_prf(average, modifier, msg_start, len(result))\n",
            "/usr/local/lib/python3.10/dist-packages/sklearn/metrics/_classification.py:1344: UndefinedMetricWarning: Precision and F-score are ill-defined and being set to 0.0 in labels with no predicted samples. Use `zero_division` parameter to control this behavior.\n",
            "  _warn_prf(average, modifier, msg_start, len(result))\n"
          ]
        },
        {
          "name": "stdout",
          "output_type": "stream",
          "text": [
            "              precision    recall  f1-score   support\n",
            "\n",
            "           0     0.8000    0.8333    0.8163        24\n",
            "           1     0.8235    0.8750    0.8485        32\n",
            "           2     0.0000    0.0000    0.0000         3\n",
            "           3     0.9615    0.9259    0.9434        27\n",
            "           4     0.9444    1.0000    0.9714        17\n",
            "           5     0.9545    0.9545    0.9545        22\n",
            "\n",
            "    accuracy                         0.8880       125\n",
            "   macro avg     0.7473    0.7648    0.7557       125\n",
            "weighted avg     0.8686    0.8880    0.8778       125\n",
            "\n"
          ]
        },
        {
          "data": {
            "image/png": "[encoded data removed]",
            "text/plain": [
              "<Figure size 1000x1000 with 2 Axes>"
            ]
          },
          "metadata": {},
          "output_type": "display_data"
        }
      ],
      "source": [
        "# testing the model with 25 hidden layers\n",
        "Testing(model25, test_dataloader, 25)"
      ]
    },
    {
      "attachments": {},
      "cell_type": "markdown",
      "metadata": {
        "id": "0tRXg-jBvbr8"
      },
      "source": [
        "<font color=\"#AF3B54\"><h2>*Training with 100 hidden layes*</h2></font>\n"
      ]
    },
    {
      "attachments": {},
      "cell_type": "markdown",
      "metadata": {
        "id": "iG4hWerHEAyL"
      },
      "source": [
        "Training with 100 hidden layers for 50 epochs:"
      ]
    },
    {
      "cell_type": "code",
      "execution_count": 91,
      "metadata": {
        "colab": {
          "base_uri": "https://localhost:8080/"
        },
        "id": "qC88sb1xkcYl",
        "outputId": "84f138f0-766a-4ffb-bdfc-7f84ebe80ede"
      },
      "outputs": [
        {
          "name": "stdout",
          "output_type": "stream",
          "text": [
            "EPOCH 1/50 :\n"
          ]
        },
        {
          "name": "stderr",
          "output_type": "stream",
          "text": [
            "  train: 100%|██████████| 1363/1363 [00:04<00:00, 315.52it/s, train_acc=0.300, train_loss=1.73]\n",
            "  test: 100%|██████████| 125/125 [00:00<00:00, 650.41it/s, train_acc=0.472, val_loss=1.66]\n"
          ]
        },
        {
          "name": "stdout",
          "output_type": "stream",
          "text": [
            "EPOCH 2/50 :\n"
          ]
        },
        {
          "name": "stderr",
          "output_type": "stream",
          "text": [
            "  train: 100%|██████████| 1363/1363 [00:04<00:00, 303.38it/s, train_acc=0.478, train_loss=1.63]\n",
            "  test: 100%|██████████| 125/125 [00:00<00:00, 845.78it/s, train_acc=0.546, val_loss=1.58]\n"
          ]
        },
        {
          "name": "stdout",
          "output_type": "stream",
          "text": [
            "EPOCH 3/50 :\n"
          ]
        },
        {
          "name": "stderr",
          "output_type": "stream",
          "text": [
            "  train: 100%|██████████| 1363/1363 [00:03<00:00, 356.60it/s, train_acc=0.522, train_loss=1.58]\n",
            "  test: 100%|██████████| 125/125 [00:00<00:00, 872.03it/s, train_acc=0.564, val_loss=1.53]\n"
          ]
        },
        {
          "name": "stdout",
          "output_type": "stream",
          "text": [
            "EPOCH 4/50 :\n"
          ]
        },
        {
          "name": "stderr",
          "output_type": "stream",
          "text": [
            "  train: 100%|██████████| 1363/1363 [00:03<00:00, 353.20it/s, train_acc=0.544, train_loss=1.54]\n",
            "  test: 100%|██████████| 125/125 [00:00<00:00, 854.26it/s, train_acc=0.580, val_loss=1.51]\n"
          ]
        },
        {
          "name": "stdout",
          "output_type": "stream",
          "text": [
            "EPOCH 5/50 :\n"
          ]
        },
        {
          "name": "stderr",
          "output_type": "stream",
          "text": [
            "  train: 100%|██████████| 1363/1363 [00:04<00:00, 286.22it/s, train_acc=0.553, train_loss=1.52]\n",
            "  test: 100%|██████████| 125/125 [00:00<00:00, 829.37it/s, train_acc=0.586, val_loss=1.48]\n"
          ]
        },
        {
          "name": "stdout",
          "output_type": "stream",
          "text": [
            "EPOCH 6/50 :\n"
          ]
        },
        {
          "name": "stderr",
          "output_type": "stream",
          "text": [
            "  train: 100%|██████████| 1363/1363 [00:03<00:00, 352.89it/s, train_acc=0.566, train_loss=1.49]\n",
            "  test: 100%|██████████| 125/125 [00:00<00:00, 796.00it/s, train_acc=0.632, val_loss=1.45]\n"
          ]
        },
        {
          "name": "stdout",
          "output_type": "stream",
          "text": [
            "EPOCH 7/50 :\n"
          ]
        },
        {
          "name": "stderr",
          "output_type": "stream",
          "text": [
            "  train: 100%|██████████| 1363/1363 [00:03<00:00, 350.97it/s, train_acc=0.670, train_loss=1.44]\n",
            "  test: 100%|██████████| 125/125 [00:00<00:00, 812.49it/s, train_acc=0.714, val_loss=1.4]\n"
          ]
        },
        {
          "name": "stdout",
          "output_type": "stream",
          "text": [
            "EPOCH 8/50 :\n"
          ]
        },
        {
          "name": "stderr",
          "output_type": "stream",
          "text": [
            "  train: 100%|██████████| 1363/1363 [00:04<00:00, 286.11it/s, train_acc=0.689, train_loss=1.4]\n",
            "  test: 100%|██████████| 125/125 [00:00<00:00, 864.61it/s, train_acc=0.718, val_loss=1.36]\n"
          ]
        },
        {
          "name": "stdout",
          "output_type": "stream",
          "text": [
            "EPOCH 9/50 :\n"
          ]
        },
        {
          "name": "stderr",
          "output_type": "stream",
          "text": [
            "  train: 100%|██████████| 1363/1363 [00:03<00:00, 355.88it/s, train_acc=0.700, train_loss=1.38]\n",
            "  test: 100%|██████████| 125/125 [00:00<00:00, 847.01it/s, train_acc=0.726, val_loss=1.35]\n"
          ]
        },
        {
          "name": "stdout",
          "output_type": "stream",
          "text": [
            "EPOCH 10/50 :\n"
          ]
        },
        {
          "name": "stderr",
          "output_type": "stream",
          "text": [
            "  train: 100%|██████████| 1363/1363 [00:03<00:00, 355.61it/s, train_acc=0.701, train_loss=1.37]\n",
            "  test: 100%|██████████| 125/125 [00:00<00:00, 871.09it/s, train_acc=0.728, val_loss=1.34]\n"
          ]
        },
        {
          "name": "stdout",
          "output_type": "stream",
          "text": [
            "EPOCH 11/50 :\n"
          ]
        },
        {
          "name": "stderr",
          "output_type": "stream",
          "text": [
            "  train: 100%|██████████| 1363/1363 [00:04<00:00, 301.66it/s, train_acc=0.705, train_loss=1.36]\n",
            "  test: 100%|██████████| 125/125 [00:00<00:00, 576.14it/s, train_acc=0.742, val_loss=1.32]\n"
          ]
        },
        {
          "name": "stdout",
          "output_type": "stream",
          "text": [
            "EPOCH 12/50 :\n"
          ]
        },
        {
          "name": "stderr",
          "output_type": "stream",
          "text": [
            "  train: 100%|██████████| 1363/1363 [00:04<00:00, 336.85it/s, train_acc=0.718, train_loss=1.34]\n",
            "  test: 100%|██████████| 125/125 [00:00<00:00, 795.14it/s, train_acc=0.740, val_loss=1.32]\n"
          ]
        },
        {
          "name": "stdout",
          "output_type": "stream",
          "text": [
            "EPOCH 13/50 :\n"
          ]
        },
        {
          "name": "stderr",
          "output_type": "stream",
          "text": [
            "  train: 100%|██████████| 1363/1363 [00:03<00:00, 356.95it/s, train_acc=0.716, train_loss=1.34]\n",
            "  test: 100%|██████████| 125/125 [00:00<00:00, 818.71it/s, train_acc=0.744, val_loss=1.31]\n"
          ]
        },
        {
          "name": "stdout",
          "output_type": "stream",
          "text": [
            "EPOCH 14/50 :\n"
          ]
        },
        {
          "name": "stderr",
          "output_type": "stream",
          "text": [
            "  train: 100%|██████████| 1363/1363 [00:04<00:00, 330.78it/s, train_acc=0.723, train_loss=1.33]\n",
            "  test: 100%|██████████| 125/125 [00:00<00:00, 635.75it/s, train_acc=0.754, val_loss=1.3]\n"
          ]
        },
        {
          "name": "stdout",
          "output_type": "stream",
          "text": [
            "EPOCH 15/50 :\n"
          ]
        },
        {
          "name": "stderr",
          "output_type": "stream",
          "text": [
            "  train: 100%|██████████| 1363/1363 [00:04<00:00, 307.95it/s, train_acc=0.725, train_loss=1.33]\n",
            "  test: 100%|██████████| 125/125 [00:00<00:00, 863.32it/s, train_acc=0.752, val_loss=1.3]\n"
          ]
        },
        {
          "name": "stdout",
          "output_type": "stream",
          "text": [
            "EPOCH 16/50 :\n"
          ]
        },
        {
          "name": "stderr",
          "output_type": "stream",
          "text": [
            "  train: 100%|██████████| 1363/1363 [00:03<00:00, 353.68it/s, train_acc=0.729, train_loss=1.32]\n",
            "  test: 100%|██████████| 125/125 [00:00<00:00, 850.58it/s, train_acc=0.766, val_loss=1.29]\n"
          ]
        },
        {
          "name": "stdout",
          "output_type": "stream",
          "text": [
            "EPOCH 17/50 :\n"
          ]
        },
        {
          "name": "stderr",
          "output_type": "stream",
          "text": [
            "  train: 100%|██████████| 1363/1363 [00:03<00:00, 348.71it/s, train_acc=0.739, train_loss=1.31]\n",
            "  test: 100%|██████████| 125/125 [00:00<00:00, 622.39it/s, train_acc=0.764, val_loss=1.29]\n"
          ]
        },
        {
          "name": "stdout",
          "output_type": "stream",
          "text": [
            "EPOCH 18/50 :\n"
          ]
        },
        {
          "name": "stderr",
          "output_type": "stream",
          "text": [
            "  train: 100%|██████████| 1363/1363 [00:04<00:00, 286.49it/s, train_acc=0.739, train_loss=1.31]\n",
            "  test: 100%|██████████| 125/125 [00:00<00:00, 858.59it/s, train_acc=0.752, val_loss=1.3]\n"
          ]
        },
        {
          "name": "stdout",
          "output_type": "stream",
          "text": [
            "EPOCH 19/50 :\n"
          ]
        },
        {
          "name": "stderr",
          "output_type": "stream",
          "text": [
            "  train: 100%|██████████| 1363/1363 [00:03<00:00, 350.75it/s, train_acc=0.741, train_loss=1.31]\n",
            "  test: 100%|██████████| 125/125 [00:00<00:00, 847.42it/s, train_acc=0.778, val_loss=1.28]\n"
          ]
        },
        {
          "name": "stdout",
          "output_type": "stream",
          "text": [
            "EPOCH 20/50 :\n"
          ]
        },
        {
          "name": "stderr",
          "output_type": "stream",
          "text": [
            "  train: 100%|██████████| 1363/1363 [00:03<00:00, 349.70it/s, train_acc=0.746, train_loss=1.3]\n",
            "  test: 100%|██████████| 125/125 [00:00<00:00, 852.14it/s, train_acc=0.772, val_loss=1.28]\n"
          ]
        },
        {
          "name": "stdout",
          "output_type": "stream",
          "text": [
            "EPOCH 21/50 :\n"
          ]
        },
        {
          "name": "stderr",
          "output_type": "stream",
          "text": [
            "  train: 100%|██████████| 1363/1363 [00:04<00:00, 283.54it/s, train_acc=0.746, train_loss=1.3]\n",
            "  test: 100%|██████████| 125/125 [00:00<00:00, 814.46it/s, train_acc=0.782, val_loss=1.27]\n"
          ]
        },
        {
          "name": "stdout",
          "output_type": "stream",
          "text": [
            "EPOCH 22/50 :\n"
          ]
        },
        {
          "name": "stderr",
          "output_type": "stream",
          "text": [
            "  train: 100%|██████████| 1363/1363 [00:03<00:00, 354.87it/s, train_acc=0.751, train_loss=1.3]\n",
            "  test: 100%|██████████| 125/125 [00:00<00:00, 817.59it/s, train_acc=0.782, val_loss=1.27]\n"
          ]
        },
        {
          "name": "stdout",
          "output_type": "stream",
          "text": [
            "EPOCH 23/50 :\n"
          ]
        },
        {
          "name": "stderr",
          "output_type": "stream",
          "text": [
            "  train: 100%|██████████| 1363/1363 [00:03<00:00, 351.56it/s, train_acc=0.754, train_loss=1.29]\n",
            "  test: 100%|██████████| 125/125 [00:00<00:00, 820.34it/s, train_acc=0.782, val_loss=1.27]\n"
          ]
        },
        {
          "name": "stdout",
          "output_type": "stream",
          "text": [
            "EPOCH 24/50 :\n"
          ]
        },
        {
          "name": "stderr",
          "output_type": "stream",
          "text": [
            "  train: 100%|██████████| 1363/1363 [00:04<00:00, 286.52it/s, train_acc=0.758, train_loss=1.29]\n",
            "  test: 100%|██████████| 125/125 [00:00<00:00, 607.68it/s, train_acc=0.820, val_loss=1.25]\n"
          ]
        },
        {
          "name": "stdout",
          "output_type": "stream",
          "text": [
            "EPOCH 25/50 :\n"
          ]
        },
        {
          "name": "stderr",
          "output_type": "stream",
          "text": [
            "  train: 100%|██████████| 1363/1363 [00:03<00:00, 344.00it/s, train_acc=0.819, train_loss=1.26]\n",
            "  test: 100%|██████████| 125/125 [00:00<00:00, 857.42it/s, train_acc=0.868, val_loss=1.21]\n"
          ]
        },
        {
          "name": "stdout",
          "output_type": "stream",
          "text": [
            "EPOCH 26/50 :\n"
          ]
        },
        {
          "name": "stderr",
          "output_type": "stream",
          "text": [
            "  train: 100%|██████████| 1363/1363 [00:03<00:00, 354.79it/s, train_acc=0.850, train_loss=1.23]\n",
            "  test: 100%|██████████| 125/125 [00:00<00:00, 838.97it/s, train_acc=0.884, val_loss=1.2]\n"
          ]
        },
        {
          "name": "stdout",
          "output_type": "stream",
          "text": [
            "EPOCH 27/50 :\n"
          ]
        },
        {
          "name": "stderr",
          "output_type": "stream",
          "text": [
            "  train: 100%|██████████| 1363/1363 [00:04<00:00, 300.54it/s, train_acc=0.875, train_loss=1.2]\n",
            "  test: 100%|██████████| 125/125 [00:00<00:00, 648.62it/s, train_acc=0.898, val_loss=1.17]\n"
          ]
        },
        {
          "name": "stdout",
          "output_type": "stream",
          "text": [
            "EPOCH 28/50 :\n"
          ]
        },
        {
          "name": "stderr",
          "output_type": "stream",
          "text": [
            "  train: 100%|██████████| 1363/1363 [00:04<00:00, 328.46it/s, train_acc=0.883, train_loss=1.18]\n",
            "  test: 100%|██████████| 125/125 [00:00<00:00, 848.65it/s, train_acc=0.900, val_loss=1.17]\n"
          ]
        },
        {
          "name": "stdout",
          "output_type": "stream",
          "text": [
            "EPOCH 29/50 :\n"
          ]
        },
        {
          "name": "stderr",
          "output_type": "stream",
          "text": [
            "  train: 100%|██████████| 1363/1363 [00:03<00:00, 352.37it/s, train_acc=0.889, train_loss=1.17]\n",
            "  test: 100%|██████████| 125/125 [00:00<00:00, 794.90it/s, train_acc=0.904, val_loss=1.16]\n"
          ]
        },
        {
          "name": "stdout",
          "output_type": "stream",
          "text": [
            "EPOCH 30/50 :\n"
          ]
        },
        {
          "name": "stderr",
          "output_type": "stream",
          "text": [
            "  train: 100%|██████████| 1363/1363 [00:04<00:00, 323.32it/s, train_acc=0.896, train_loss=1.17]\n",
            "  test: 100%|██████████| 125/125 [00:00<00:00, 600.28it/s, train_acc=0.914, val_loss=1.15]\n"
          ]
        },
        {
          "name": "stdout",
          "output_type": "stream",
          "text": [
            "EPOCH 31/50 :\n"
          ]
        },
        {
          "name": "stderr",
          "output_type": "stream",
          "text": [
            "  train: 100%|██████████| 1363/1363 [00:04<00:00, 300.26it/s, train_acc=0.904, train_loss=1.15]\n",
            "  test: 100%|██████████| 125/125 [00:00<00:00, 830.91it/s, train_acc=0.926, val_loss=1.14]\n"
          ]
        },
        {
          "name": "stdout",
          "output_type": "stream",
          "text": [
            "EPOCH 32/50 :\n"
          ]
        },
        {
          "name": "stderr",
          "output_type": "stream",
          "text": [
            "  train: 100%|██████████| 1363/1363 [00:03<00:00, 352.21it/s, train_acc=0.897, train_loss=1.16]\n",
            "  test: 100%|██████████| 125/125 [00:00<00:00, 840.06it/s, train_acc=0.924, val_loss=1.14]\n"
          ]
        },
        {
          "name": "stdout",
          "output_type": "stream",
          "text": [
            "EPOCH 33/50 :\n"
          ]
        },
        {
          "name": "stderr",
          "output_type": "stream",
          "text": [
            "  train: 100%|██████████| 1363/1363 [00:04<00:00, 338.32it/s, train_acc=0.902, train_loss=1.15]\n",
            "  test: 100%|██████████| 125/125 [00:00<00:00, 621.80it/s, train_acc=0.922, val_loss=1.13]\n"
          ]
        },
        {
          "name": "stdout",
          "output_type": "stream",
          "text": [
            "EPOCH 34/50 :\n"
          ]
        },
        {
          "name": "stderr",
          "output_type": "stream",
          "text": [
            "  train: 100%|██████████| 1363/1363 [00:04<00:00, 290.15it/s, train_acc=0.906, train_loss=1.15]\n",
            "  test: 100%|██████████| 125/125 [00:00<00:00, 823.62it/s, train_acc=0.926, val_loss=1.13]\n"
          ]
        },
        {
          "name": "stdout",
          "output_type": "stream",
          "text": [
            "EPOCH 35/50 :\n"
          ]
        },
        {
          "name": "stderr",
          "output_type": "stream",
          "text": [
            "  train: 100%|██████████| 1363/1363 [00:03<00:00, 350.75it/s, train_acc=0.910, train_loss=1.14]\n",
            "  test: 100%|██████████| 125/125 [00:00<00:00, 784.07it/s, train_acc=0.930, val_loss=1.13]\n"
          ]
        },
        {
          "name": "stdout",
          "output_type": "stream",
          "text": [
            "EPOCH 36/50 :\n"
          ]
        },
        {
          "name": "stderr",
          "output_type": "stream",
          "text": [
            "  train: 100%|██████████| 1363/1363 [00:03<00:00, 354.28it/s, train_acc=0.915, train_loss=1.14]\n",
            "  test: 100%|██████████| 125/125 [00:00<00:00, 833.32it/s, train_acc=0.928, val_loss=1.13]\n"
          ]
        },
        {
          "name": "stdout",
          "output_type": "stream",
          "text": [
            "EPOCH 37/50 :\n"
          ]
        },
        {
          "name": "stderr",
          "output_type": "stream",
          "text": [
            "  train: 100%|██████████| 1363/1363 [00:04<00:00, 286.24it/s, train_acc=0.915, train_loss=1.14]\n",
            "  test: 100%|██████████| 125/125 [00:00<00:00, 837.80it/s, train_acc=0.916, val_loss=1.14]\n"
          ]
        },
        {
          "name": "stdout",
          "output_type": "stream",
          "text": [
            "EPOCH 38/50 :\n"
          ]
        },
        {
          "name": "stderr",
          "output_type": "stream",
          "text": [
            "  train: 100%|██████████| 1363/1363 [00:03<00:00, 357.81it/s, train_acc=0.918, train_loss=1.13]\n",
            "  test: 100%|██████████| 125/125 [00:00<00:00, 834.50it/s, train_acc=0.930, val_loss=1.12]\n"
          ]
        },
        {
          "name": "stdout",
          "output_type": "stream",
          "text": [
            "EPOCH 39/50 :\n"
          ]
        },
        {
          "name": "stderr",
          "output_type": "stream",
          "text": [
            "  train: 100%|██████████| 1363/1363 [00:03<00:00, 349.23it/s, train_acc=0.916, train_loss=1.13]\n",
            "  test: 100%|██████████| 125/125 [00:00<00:00, 856.09it/s, train_acc=0.932, val_loss=1.12]\n"
          ]
        },
        {
          "name": "stdout",
          "output_type": "stream",
          "text": [
            "EPOCH 40/50 :\n"
          ]
        },
        {
          "name": "stderr",
          "output_type": "stream",
          "text": [
            "  train: 100%|██████████| 1363/1363 [00:04<00:00, 295.11it/s, train_acc=0.912, train_loss=1.14]\n",
            "  test: 100%|██████████| 125/125 [00:00<00:00, 622.95it/s, train_acc=0.932, val_loss=1.12]\n"
          ]
        },
        {
          "name": "stdout",
          "output_type": "stream",
          "text": [
            "EPOCH 41/50 :\n"
          ]
        },
        {
          "name": "stderr",
          "output_type": "stream",
          "text": [
            "  train: 100%|██████████| 1363/1363 [00:04<00:00, 339.83it/s, train_acc=0.921, train_loss=1.13]\n",
            "  test: 100%|██████████| 125/125 [00:00<00:00, 866.58it/s, train_acc=0.936, val_loss=1.12]\n"
          ]
        },
        {
          "name": "stdout",
          "output_type": "stream",
          "text": [
            "EPOCH 42/50 :\n"
          ]
        },
        {
          "name": "stderr",
          "output_type": "stream",
          "text": [
            "  train: 100%|██████████| 1363/1363 [00:03<00:00, 355.22it/s, train_acc=0.924, train_loss=1.12]\n",
            "  test: 100%|██████████| 125/125 [00:00<00:00, 826.06it/s, train_acc=0.932, val_loss=1.12]\n"
          ]
        },
        {
          "name": "stdout",
          "output_type": "stream",
          "text": [
            "EPOCH 43/50 :\n"
          ]
        },
        {
          "name": "stderr",
          "output_type": "stream",
          "text": [
            "  train: 100%|██████████| 1363/1363 [00:04<00:00, 311.16it/s, train_acc=0.924, train_loss=1.12]\n",
            "  test: 100%|██████████| 125/125 [00:00<00:00, 644.19it/s, train_acc=0.936, val_loss=1.12]\n"
          ]
        },
        {
          "name": "stdout",
          "output_type": "stream",
          "text": [
            "EPOCH 44/50 :\n"
          ]
        },
        {
          "name": "stderr",
          "output_type": "stream",
          "text": [
            "  train: 100%|██████████| 1363/1363 [00:04<00:00, 322.67it/s, train_acc=0.920, train_loss=1.13]\n",
            "  test: 100%|██████████| 125/125 [00:00<00:00, 781.39it/s, train_acc=0.938, val_loss=1.11]\n"
          ]
        },
        {
          "name": "stdout",
          "output_type": "stream",
          "text": [
            "EPOCH 45/50 :\n"
          ]
        },
        {
          "name": "stderr",
          "output_type": "stream",
          "text": [
            "  train: 100%|██████████| 1363/1363 [00:03<00:00, 357.98it/s, train_acc=0.926, train_loss=1.12]\n",
            "  test: 100%|██████████| 125/125 [00:00<00:00, 806.65it/s, train_acc=0.934, val_loss=1.12]\n"
          ]
        },
        {
          "name": "stdout",
          "output_type": "stream",
          "text": [
            "EPOCH 46/50 :\n"
          ]
        },
        {
          "name": "stderr",
          "output_type": "stream",
          "text": [
            "  train: 100%|██████████| 1363/1363 [00:04<00:00, 338.93it/s, train_acc=0.925, train_loss=1.12]\n",
            "  test: 100%|██████████| 125/125 [00:00<00:00, 613.98it/s, train_acc=0.936, val_loss=1.11]\n"
          ]
        },
        {
          "name": "stdout",
          "output_type": "stream",
          "text": [
            "EPOCH 47/50 :\n"
          ]
        },
        {
          "name": "stderr",
          "output_type": "stream",
          "text": [
            "  train: 100%|██████████| 1363/1363 [00:04<00:00, 297.63it/s, train_acc=0.928, train_loss=1.12]\n",
            "  test: 100%|██████████| 125/125 [00:00<00:00, 813.26it/s, train_acc=0.928, val_loss=1.12]\n"
          ]
        },
        {
          "name": "stdout",
          "output_type": "stream",
          "text": [
            "EPOCH 48/50 :\n"
          ]
        },
        {
          "name": "stderr",
          "output_type": "stream",
          "text": [
            "  train: 100%|██████████| 1363/1363 [00:03<00:00, 350.48it/s, train_acc=0.930, train_loss=1.12]\n",
            "  test: 100%|██████████| 125/125 [00:00<00:00, 830.83it/s, train_acc=0.936, val_loss=1.11]\n"
          ]
        },
        {
          "name": "stdout",
          "output_type": "stream",
          "text": [
            "EPOCH 49/50 :\n"
          ]
        },
        {
          "name": "stderr",
          "output_type": "stream",
          "text": [
            "  train: 100%|██████████| 1363/1363 [00:03<00:00, 353.81it/s, train_acc=0.928, train_loss=1.12]\n",
            "  test: 100%|██████████| 125/125 [00:00<00:00, 819.30it/s, train_acc=0.936, val_loss=1.11]\n"
          ]
        },
        {
          "name": "stdout",
          "output_type": "stream",
          "text": [
            "EPOCH 50/50 :\n"
          ]
        },
        {
          "name": "stderr",
          "output_type": "stream",
          "text": [
            "  train: 100%|██████████| 1363/1363 [00:04<00:00, 287.43it/s, train_acc=0.934, train_loss=1.11]\n",
            "  test: 100%|██████████| 125/125 [00:00<00:00, 833.23it/s, train_acc=0.936, val_loss=1.11]\n"
          ]
        }
      ],
      "source": [
        "import torch.optim as optim\n",
        "model100 = LSTM(dimension=100).to('cuda')\n",
        "\n",
        "## Optimizer and loss function\n",
        "optimizer = optim.Adam(model100.parameters(),lr=0.0001)\n",
        "criterion = nn.CrossEntropyLoss()\n",
        "\n",
        "train_loss = []\n",
        "train_acc = []\n",
        "val_loss = []\n",
        "val_acc = []\n",
        "epochs = 50\n",
        "\n",
        "for epoch in range(epochs):\n",
        "  print(\"EPOCH {}/{} :\".format(epoch +1, epochs))\n",
        "  ## fit\n",
        "  train_epoch_loss , train_acc_epoch= fit(model100, train_dataloader, optimizer, criterion)\n",
        "  train_loss.append(train_epoch_loss)\n",
        "  train_acc.append(train_acc_epoch)\n",
        "  ## validation\n",
        "  val_epoch_loss , val_acc_epoch= validation(model100, test_dataloader, criterion)\n",
        "  val_loss.append(val_epoch_loss)\n",
        "  val_acc.append(val_acc_epoch)\n",
        "\n",
        "torch.save(model100.state_dict(), 'first_trained_model_100')"
      ]
    },
    {
      "cell_type": "code",
      "execution_count": 92,
      "metadata": {
        "colab": {
          "base_uri": "https://localhost:8080/",
          "height": 1000
        },
        "id": "D3z9OBLivksD",
        "outputId": "08c3c33a-5c85-4f24-bc61-2982ddea47d6"
      },
      "outputs": [
        {
          "data": {
            "image/png": "[encoded data removed]",
            "text/plain": [
              "<Figure size 1500x1000 with 2 Axes>"
            ]
          },
          "metadata": {},
          "output_type": "display_data"
        }
      ],
      "source": [
        "# Main classification\n",
        "plot_acc_loss(train_acc, val_acc, train_loss, val_loss, 100, 'Main')"
      ]
    },
    {
      "cell_type": "code",
      "execution_count": 93,
      "metadata": {
        "colab": {
          "base_uri": "https://localhost:8080/",
          "height": 1000
        },
        "id": "A7A2oMNgv_qd",
        "outputId": "cbe1abb3-8f9d-4d47-8974-a9497a8f0624"
      },
      "outputs": [
        {
          "name": "stderr",
          "output_type": "stream",
          "text": [
            "   test: 100%|██████████| 125/125 [00:00<00:00, 1022.58it/s]\n",
            "/usr/local/lib/python3.10/dist-packages/sklearn/metrics/_classification.py:1344: UndefinedMetricWarning: Precision and F-score are ill-defined and being set to 0.0 in labels with no predicted samples. Use `zero_division` parameter to control this behavior.\n",
            "  _warn_prf(average, modifier, msg_start, len(result))\n",
            "/usr/local/lib/python3.10/dist-packages/sklearn/metrics/_classification.py:1344: UndefinedMetricWarning: Precision and F-score are ill-defined and being set to 0.0 in labels with no predicted samples. Use `zero_division` parameter to control this behavior.\n",
            "  _warn_prf(average, modifier, msg_start, len(result))\n",
            "/usr/local/lib/python3.10/dist-packages/sklearn/metrics/_classification.py:1344: UndefinedMetricWarning: Precision and F-score are ill-defined and being set to 0.0 in labels with no predicted samples. Use `zero_division` parameter to control this behavior.\n",
            "  _warn_prf(average, modifier, msg_start, len(result))\n"
          ]
        },
        {
          "name": "stdout",
          "output_type": "stream",
          "text": [
            "              precision    recall  f1-score   support\n",
            "\n",
            "           0     0.9310    0.9643    0.9474        28\n",
            "           1     0.8387    1.0000    0.9123        26\n",
            "           2     0.0000    0.0000    0.0000         2\n",
            "           3     1.0000    0.8857    0.9394        35\n",
            "           4     1.0000    1.0000    1.0000        13\n",
            "           5     0.9524    0.9524    0.9524        21\n",
            "\n",
            "    accuracy                         0.9360       125\n",
            "   macro avg     0.7870    0.8004    0.7919       125\n",
            "weighted avg     0.9270    0.9360    0.9290       125\n",
            "\n"
          ]
        },
        {
          "data": {
            "image/png": "[encoded data removed]",
            "text/plain": [
              "<Figure size 1000x1000 with 2 Axes>"
            ]
          },
          "metadata": {},
          "output_type": "display_data"
        }
      ],
      "source": [
        "# testing the model with 100 hidden layers\n",
        "Testing(model100, test_dataloader, 100)"
      ]
    },
    {
      "cell_type": "code",
      "execution_count": 93,
      "metadata": {
        "id": "px-JXR351Jrm"
      },
      "outputs": [],
      "source": []
    }
  ],
  "metadata": {
    "accelerator": "GPU",
    "colab": {
      "gpuType": "T4",
      "provenance": []
    },
    "gpuClass": "standard",
    "kernelspec": {
      "display_name": "Python 3",
      "name": "python3"
    },
    "language_info": {
      "name": "python"
    }
  },
  "nbformat": 4,
  "nbformat_minor": 0
}
